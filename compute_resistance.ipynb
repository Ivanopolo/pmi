{
 "cells": [
  {
   "cell_type": "code",
   "execution_count": 11,
   "metadata": {},
   "outputs": [],
   "source": [
    "import numpy as np\n",
    "import networkx as nx\n",
    "\n",
    "G = nx.Graph()\n",
    "\n",
    "# dt = {\n",
    "#     0: \"s\",\n",
    "#     1: \"a\",\n",
    "#     2: \"b\",\n",
    "#     3: \"c\",\n",
    "#     4: \"t\",\n",
    "#     5: \"d\",\n",
    "#     6: \"e\",\n",
    "#     7: \"f\"\n",
    "# }\n",
    "\n",
    "# edges = [\n",
    "#     (0, 1),\n",
    "#     (1, 2),\n",
    "#     (2, 3),\n",
    "#     (3, 0),\n",
    "#     (4, 5),\n",
    "#     (5, 6),\n",
    "#     (6, 7),\n",
    "#     (7, 4),\n",
    "#     (0, 4),\n",
    "#     (1, 5),\n",
    "#     (2, 6),\n",
    "#     (3, 7)\n",
    "# ]\n",
    "\n",
    "dt = {\n",
    "    0: \"s\",\n",
    "    1: \"a\",\n",
    "    2: \"c\",\n",
    "    3: \"f\"\n",
    "}\n",
    "\n",
    "\n",
    "edges = [\n",
    "    (0, 1, {\"weight\":1}),\n",
    "    (0, 2, {\"weight\":2}),\n",
    "    (1, 2, {\"weight\":4/3}),\n",
    "    (1, 3, {\"weight\":1}),\n",
    "    (2, 3, {\"weight\":2})\n",
    "]\n",
    "\n",
    "\n",
    "G.add_edges_from(edges)"
   ]
  },
  {
   "cell_type": "code",
   "execution_count": 12,
   "metadata": {},
   "outputs": [],
   "source": [
    "L = nx.laplacian_matrix(G).todense()\n",
    "L_inv = np.linalg.pinv(L)"
   ]
  },
  {
   "cell_type": "code",
   "execution_count": 13,
   "metadata": {},
   "outputs": [
    {
     "data": {
      "text/plain": [
       "matrix([[ 3.        , -1.        , -2.        ,  0.        ],\n",
       "        [-1.        ,  3.33333333, -1.33333333, -1.        ],\n",
       "        [-2.        , -1.33333333,  5.33333333, -2.        ],\n",
       "        [ 0.        , -1.        , -2.        ,  3.        ]])"
      ]
     },
     "execution_count": 13,
     "metadata": {},
     "output_type": "execute_result"
    }
   ],
   "source": [
    "L"
   ]
  },
  {
   "cell_type": "code",
   "execution_count": 14,
   "metadata": {},
   "outputs": [
    {
     "data": {
      "text/plain": [
       "array([[ 0.21, -0.06, -0.03, -0.12],\n",
       "       [-0.06,  0.17, -0.05, -0.06],\n",
       "       [-0.03, -0.05,  0.11, -0.03],\n",
       "       [-0.12, -0.06, -0.03,  0.21]])"
      ]
     },
     "execution_count": 14,
     "metadata": {},
     "output_type": "execute_result"
    }
   ],
   "source": [
    "np.round(L_inv, 2)"
   ]
  },
  {
   "cell_type": "code",
   "execution_count": 15,
   "metadata": {},
   "outputs": [
    {
     "data": {
      "text/plain": [
       "matrix([[0.66666667]])"
      ]
     },
     "execution_count": 15,
     "metadata": {},
     "output_type": "execute_result"
    }
   ],
   "source": [
    "e_s = np.zeros(len(dt))\n",
    "e_s[0] = 1\n",
    "\n",
    "e_t = np.zeros(len(dt))\n",
    "e_t[3] = 1\n",
    "\n",
    "diff = e_s - e_t\n",
    "diff.dot(L_inv.dot(diff).T)"
   ]
  },
  {
   "cell_type": "code",
   "execution_count": 16,
   "metadata": {},
   "outputs": [
    {
     "data": {
      "text/plain": [
       "0.6304347826086957"
      ]
     },
     "execution_count": 16,
     "metadata": {},
     "output_type": "execute_result"
    }
   ],
   "source": [
    "29/46"
   ]
  },
  {
   "cell_type": "code",
   "execution_count": 17,
   "metadata": {},
   "outputs": [
    {
     "data": {
      "text/plain": [
       "0.5641025641025641"
      ]
     },
     "execution_count": 17,
     "metadata": {},
     "output_type": "execute_result"
    }
   ],
   "source": [
    "22/39"
   ]
  },
  {
   "cell_type": "code",
   "execution_count": null,
   "metadata": {},
   "outputs": [],
   "source": []
  }
 ],
 "metadata": {
  "kernelspec": {
   "display_name": "Python (research)",
   "language": "python",
   "name": "research"
  },
  "language_info": {
   "codemirror_mode": {
    "name": "ipython",
    "version": 3
   },
   "file_extension": ".py",
   "mimetype": "text/x-python",
   "name": "python",
   "nbconvert_exporter": "python",
   "pygments_lexer": "ipython3",
   "version": "3.6.3"
  }
 },
 "nbformat": 4,
 "nbformat_minor": 2
}
