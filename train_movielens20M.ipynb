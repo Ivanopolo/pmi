{
 "cells": [
  {
   "cell_type": "code",
   "execution_count": 1,
   "metadata": {},
   "outputs": [],
   "source": [
    "import numpy as np\n",
    "from scipy.sparse import csr_matrix, dok_matrix\n",
    "import scipy.sparse\n",
    "from scipy.sparse import linalg as slinalg\n",
    "\n",
    "adjacency_path = \"./data/movielens20M.train.npz\"\n",
    "adjacency_train = scipy.sparse.load_npz(adjacency_path)"
   ]
  },
  {
   "cell_type": "code",
   "execution_count": 2,
   "metadata": {},
   "outputs": [],
   "source": [
    "p2p_mat = adjacency_train.T.dot(adjacency_train)\n",
    "p2p_mat = p2p_mat - scipy.sparse.diags(p2p_mat.diagonal())\n",
    "p2p_mat.eliminate_zeros()"
   ]
  },
  {
   "cell_type": "code",
   "execution_count": 14,
   "metadata": {},
   "outputs": [
    {
     "name": "stderr",
     "output_type": "stream",
     "text": [
      "/Users/i.lobov/research/lib/python3.6/site-packages/ipykernel_launcher.py:7: RuntimeWarning: divide by zero encountered in reciprocal\n",
      "  import sys\n",
      "/Users/i.lobov/research/lib/python3.6/site-packages/ipykernel_launcher.py:8: RuntimeWarning: divide by zero encountered in reciprocal\n",
      "  \n"
     ]
    }
   ],
   "source": [
    "def get_pmi_matrix(adjacency, cds, neg, pos):\n",
    "    sum_w = np.array(adjacency.sum(axis=1))[:, 0]\n",
    "    sum_c = np.array(adjacency.sum(axis=0))[0, :]\n",
    "    if cds != 1:\n",
    "        sum_c = sum_c ** cds\n",
    "    sum_total = sum_c.sum()\n",
    "    sum_w = np.reciprocal(sum_w)\n",
    "    sum_c = np.reciprocal(sum_c)\n",
    "\n",
    "    pmi = multiply_by_rows(adjacency, sum_w)\n",
    "    pmi = multiply_by_columns(pmi, sum_c)\n",
    "    pmi = pmi * sum_total\n",
    "    pmi.data = np.log(pmi.data) - np.log(neg) + np.log(pos)\n",
    "    return pmi\n",
    "\n",
    "def multiply_by_rows(matrix, row_coefs):\n",
    "    normalizer = dok_matrix((len(row_coefs), len(row_coefs)))\n",
    "    normalizer.setdiag(row_coefs)\n",
    "    return normalizer.tocsr().dot(matrix)\n",
    "\n",
    "\n",
    "def multiply_by_columns(matrix, col_coefs):\n",
    "    normalizer = dok_matrix((len(col_coefs), len(col_coefs)))\n",
    "    normalizer.setdiag(col_coefs)\n",
    "    return matrix.dot(normalizer.tocsr())\n",
    "\n",
    "cds = 0.75\n",
    "neg = 1\n",
    "pos = 100\n",
    "pmi = get_pmi_matrix(p2p_mat, cds, neg, pos)"
   ]
  },
  {
   "cell_type": "code",
   "execution_count": 15,
   "metadata": {},
   "outputs": [
    {
     "data": {
      "text/plain": [
       "1.3091650039935985"
      ]
     },
     "execution_count": 15,
     "metadata": {},
     "output_type": "execute_result"
    }
   ],
   "source": [
    "pmi.data.min()"
   ]
  },
  {
   "cell_type": "code",
   "execution_count": 26,
   "metadata": {},
   "outputs": [],
   "source": [
    "from sklearn.decomposition import TruncatedSVD\n",
    "\n",
    "dim = 1000\n",
    "# s, Vt = slinalg.eigsh(pmi, dim)\n",
    "U, s, Vt = slinalg.svds(pmi, dim)\n",
    "# U, s, Vt = slinalg.svds(adjacency_train, dim)\n",
    "# svd = TruncatedSVD(n_components=dim, n_iter=1, random_state=0)\n",
    "# U = svd.fit_transform(pmi)\n",
    "# s = svd.singular_values_\n",
    "\n",
    "# rng = np.random.RandomState(0)\n",
    "# U = rng.normal(size=[pmi.shape[0], dim])\n",
    "# U /= np.linalg.norm(U, axis=1, keepdims=True)\n",
    "# U = pmi.T.dot(U)\n",
    "# U, _ = np.linalg.qr(U)\n",
    "# U /= np.linalg.norm(U, axis=1, keepdims=True)\n",
    "\n",
    "# for _ in range(3):\n",
    "#     U = pmi.dot(U)\n",
    "#     U, _ = np.linalg.qr(U)\n",
    "#     U /= np.linalg.norm(U, axis=1, keepdims=True)\n",
    "    \n",
    "#     U = pmi.T.dot(U)\n",
    "#     U, _ = np.linalg.qr(U)\n",
    "#     U /= np.linalg.norm(U, axis=1, keepdims=True)"
   ]
  },
  {
   "cell_type": "code",
   "execution_count": 27,
   "metadata": {},
   "outputs": [],
   "source": [
    "#np.save(\"./data/movielens_users_pos=100\", U)\n",
    "#np.save(\"./data/movielens_movies_pos=100\", Vt.T)\n",
    "#np.save(\"./data/movielens_singular_vals_pos=100\", s)\n",
    "\n",
    "np.save(\"./data/movielens20M_users_svd\", U)\n",
    "np.save(\"./data/movielens20M_movies_svd\", Vt.T)\n",
    "np.save(\"./data/movielens20M_singular_vals_svd\", s)\n",
    "\n",
    "# np.save(\"./data/movielens20M_singular_vals_svd_pmi2\", s)\n",
    "# np.save(\"./data/movielens20M_movies_svd_pmi2\", Vt)\n",
    "\n",
    "# np.save(\"./data/movielens20M_singular_vals_rsvd1_pmi\", s)\n",
    "# np.save(\"./data/movielens20M_movies_rsvd1_pmi\", U)\n",
    "\n",
    "# np.save(\"./data/movielens20M_movies_pic_pmi\", U)"
   ]
  },
  {
   "cell_type": "code",
   "execution_count": 13,
   "metadata": {},
   "outputs": [],
   "source": [
    "# scipy.sparse.save_npz(\"./data/movielens.adjacency.train.npz\", adjacency_train)\n",
    "# scipy.sparse.save_npz(\"./data/movielens.adjacency.test.npz\", adjacency_test)"
   ]
  },
  {
   "cell_type": "code",
   "execution_count": 13,
   "metadata": {},
   "outputs": [],
   "source": [
    "np.save(\"./data/movielens20M_movies_pop\", np.asarray(adjacency_train.sum(axis=0)).flatten())"
   ]
  },
  {
   "cell_type": "code",
   "execution_count": null,
   "metadata": {},
   "outputs": [],
   "source": []
  }
 ],
 "metadata": {
  "kernelspec": {
   "display_name": "Python (research)",
   "language": "python",
   "name": "research"
  },
  "language_info": {
   "codemirror_mode": {
    "name": "ipython",
    "version": 3
   },
   "file_extension": ".py",
   "mimetype": "text/x-python",
   "name": "python",
   "nbconvert_exporter": "python",
   "pygments_lexer": "ipython3",
   "version": "3.6.5"
  }
 },
 "nbformat": 4,
 "nbformat_minor": 2
}
