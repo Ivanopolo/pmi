{
 "cells": [
  {
   "cell_type": "code",
   "execution_count": 8,
   "metadata": {},
   "outputs": [],
   "source": [
    "import numpy as np\n",
    "from scipy.sparse import csr_matrix, dok_matrix\n",
    "import scipy.sparse\n",
    "from scipy.sparse import linalg as slinalg\n",
    "\n",
    "adjacency_path = \"./data/netflix.adjacency.npz\"\n",
    "adjacency_matrix = scipy.sparse.load_npz(adjacency_path)"
   ]
  },
  {
   "cell_type": "code",
   "execution_count": 12,
   "metadata": {},
   "outputs": [],
   "source": [
    "users_mask = np.asarray(adjacency_matrix.sum(axis=1)).flatten() >= 5\n",
    "adjacency_matrix = adjacency_matrix[users_mask, :]"
   ]
  },
  {
   "cell_type": "code",
   "execution_count": 55,
   "metadata": {},
   "outputs": [],
   "source": [
    "# rng = np.random.RandomState(2)\n",
    "# user_indices = rng.randint(0, adjacency_matrix.shape[0], size=10000)\n",
    "# movie_indices = rng.randint(0, adjacency_matrix.shape[1], size=5000)\n",
    "\n",
    "# adjacency_matrix = adjacency_matrix[user_indices, :][:, movie_indices]"
   ]
  },
  {
   "cell_type": "code",
   "execution_count": 13,
   "metadata": {},
   "outputs": [],
   "source": [
    "adjacency_test = dok_matrix(adjacency_matrix.shape, dtype=np.float32)\n",
    "user_ids, movie_ids = adjacency_matrix.nonzero()\n",
    "\n",
    "indices = np.concatenate((\n",
    "    user_ids.reshape([len(user_ids), 1]), \n",
    "    movie_ids.reshape([len(user_ids), 1])), \n",
    "    axis=1)\n",
    "\n",
    "rng = np.random.RandomState(10)\n",
    "rng.shuffle(indices)\n",
    "used_users = set()\n",
    "\n",
    "for idx in range(indices.shape[0]):\n",
    "    user_id = indices[idx, 0]\n",
    "    movie_id = indices[idx, 1]\n",
    "    if user_id not in used_users:\n",
    "        adjacency_test[user_id, movie_id] = 1\n",
    "        used_users.add(user_id)\n",
    "    \n",
    "    if len(used_users) == adjacency_matrix.shape[0]:\n",
    "        break\n",
    "        \n",
    "adjacency_test = adjacency_test.tocsr()"
   ]
  },
  {
   "cell_type": "code",
   "execution_count": 14,
   "metadata": {},
   "outputs": [],
   "source": [
    "adjacency_train = adjacency_matrix - adjacency_test\n",
    "adjacency_train.eliminate_zeros()\n",
    "nonzero_users_mask = np.asarray((adjacency_train.sum(axis=1) != 0)).flatten()\n",
    "adjacency_train = adjacency_train[nonzero_users_mask, :]\n",
    "adjacency_test = adjacency_test[nonzero_users_mask, :]"
   ]
  },
  {
   "cell_type": "code",
   "execution_count": 15,
   "metadata": {},
   "outputs": [],
   "source": [
    "assert(adjacency_train.shape == adjacency_test.shape)"
   ]
  },
  {
   "cell_type": "code",
   "execution_count": 23,
   "metadata": {},
   "outputs": [
    {
     "name": "stderr",
     "output_type": "stream",
     "text": [
      "/Users/i.lobov/.virtualenvs/research/lib/python3.6/site-packages/ipykernel_launcher.py:8: RuntimeWarning: divide by zero encountered in reciprocal\n",
      "  \n"
     ]
    }
   ],
   "source": [
    "def get_pmi_matrix(adjacency, cds, neg, pos):\n",
    "    sum_w = np.array(adjacency.sum(axis=1))[:, 0]\n",
    "    sum_c = np.array(adjacency.sum(axis=0))[0, :]\n",
    "    if cds != 1:\n",
    "        sum_c = sum_c ** cds\n",
    "    sum_total = sum_c.sum()\n",
    "    sum_w = np.reciprocal(sum_w)\n",
    "    sum_c = np.reciprocal(sum_c)\n",
    "\n",
    "    pmi = multiply_by_rows(adjacency, sum_w)\n",
    "    pmi = multiply_by_columns(pmi, sum_c)\n",
    "    pmi = pmi * sum_total\n",
    "    pmi.data = np.log(pmi.data) - np.log(neg) + np.log(pos)\n",
    "    return pmi\n",
    "\n",
    "def multiply_by_rows(matrix, row_coefs):\n",
    "    normalizer = dok_matrix((len(row_coefs), len(row_coefs)))\n",
    "    normalizer.setdiag(row_coefs)\n",
    "    return normalizer.tocsr().dot(matrix)\n",
    "\n",
    "\n",
    "def multiply_by_columns(matrix, col_coefs):\n",
    "    normalizer = dok_matrix((len(col_coefs), len(col_coefs)))\n",
    "    normalizer.setdiag(col_coefs)\n",
    "    return matrix.dot(normalizer.tocsr())\n",
    "\n",
    "cds = 1.0\n",
    "neg = 1\n",
    "pos = 100\n",
    "pmi = get_pmi_matrix(adjacency_train, cds, neg, pos)"
   ]
  },
  {
   "cell_type": "code",
   "execution_count": 24,
   "metadata": {},
   "outputs": [
    {
     "data": {
      "text/plain": [
       "1.1151063657977658"
      ]
     },
     "execution_count": 24,
     "metadata": {},
     "output_type": "execute_result"
    }
   ],
   "source": [
    "pmi.data.min()"
   ]
  },
  {
   "cell_type": "code",
   "execution_count": 25,
   "metadata": {},
   "outputs": [],
   "source": [
    "dim = 100\n",
    "U, s, Vt = slinalg.svds(pmi, dim)\n",
    "#U, s, Vt = slinalg.svds(adjacency_train, dim)"
   ]
  },
  {
   "cell_type": "code",
   "execution_count": 26,
   "metadata": {},
   "outputs": [],
   "source": [
    "#np.save(\"./data/netflix_users2_pos=100\", U)\n",
    "#np.save(\"./data/netflix_movies2_pos=100\", Vt.T)\n",
    "#np.save(\"./data/netflix_singular_vals2_pos=100\", s)\n",
    "\n",
    "np.save(\"./data/netflix_users_pmi\", U)\n",
    "np.save(\"./data/netflix_movies_pmi\", Vt.T)\n",
    "np.save(\"./data/netflix_singular_vals_pmi\", s)"
   ]
  },
  {
   "cell_type": "code",
   "execution_count": 18,
   "metadata": {},
   "outputs": [],
   "source": [
    "scipy.sparse.save_npz(\"./data/netflix.adjacency.train.npz\", adjacency_train)\n",
    "scipy.sparse.save_npz(\"./data/netflix.adjacency.test.npz\", adjacency_test)"
   ]
  },
  {
   "cell_type": "code",
   "execution_count": null,
   "metadata": {},
   "outputs": [],
   "source": []
  }
 ],
 "metadata": {
  "kernelspec": {
   "display_name": "Python (research)",
   "language": "python",
   "name": "research"
  },
  "language_info": {
   "codemirror_mode": {
    "name": "ipython",
    "version": 3
   },
   "file_extension": ".py",
   "mimetype": "text/x-python",
   "name": "python",
   "nbconvert_exporter": "python",
   "pygments_lexer": "ipython3",
   "version": "3.6.5"
  }
 },
 "nbformat": 4,
 "nbformat_minor": 2
}
