{
 "cells": [
  {
   "cell_type": "code",
   "execution_count": 4,
   "metadata": {
    "scrolled": true
   },
   "outputs": [],
   "source": [
    "from scipy.sparse import dok_matrix, csr_matrix\n",
    "import scipy.sparse\n",
    "import numpy as np\n",
    "\n",
    "n = 6040\n",
    "m = 3952\n",
    "counts = csr_matrix((n, m), dtype=int)\n",
    "tmp_counts = dok_matrix((n, m), dtype=int)\n",
    "update_threshold = 10000000\n",
    "i = 0\n",
    "\n",
    "for path in [\"./data/movielens_ratings\"]:\n",
    "    with open(path) as f:\n",
    "        for line in f:\n",
    "            line = line.strip().split(\"::\")\n",
    "            user_id = int(line[0]) - 1\n",
    "            movie_id = int(line[1]) - 1\n",
    "            tmp_counts[user_id, movie_id] = 1\n",
    "            i += 1\n",
    "                \n",
    "            if i == update_threshold:\n",
    "                print(\"...\")\n",
    "                counts = counts + tmp_counts.tocsr()\n",
    "                tmp_counts = dok_matrix((n, m), dtype=int)\n",
    "                i = 0\n",
    "                \n",
    "counts = counts + tmp_counts.tocsr()"
   ]
  },
  {
   "cell_type": "code",
   "execution_count": 5,
   "metadata": {},
   "outputs": [],
   "source": [
    "scipy.sparse.save_npz(\"./data/movielens.adjacency.npz\", counts.astype(np.float32))"
   ]
  },
  {
   "cell_type": "code",
   "execution_count": null,
   "metadata": {},
   "outputs": [],
   "source": []
  }
 ],
 "metadata": {
  "kernelspec": {
   "display_name": "Python (research)",
   "language": "python",
   "name": "research"
  },
  "language_info": {
   "codemirror_mode": {
    "name": "ipython",
    "version": 3
   },
   "file_extension": ".py",
   "mimetype": "text/x-python",
   "name": "python",
   "nbconvert_exporter": "python",
   "pygments_lexer": "ipython3",
   "version": "3.6.5"
  }
 },
 "nbformat": 4,
 "nbformat_minor": 2
}
