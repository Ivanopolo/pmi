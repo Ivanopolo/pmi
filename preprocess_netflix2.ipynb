{
 "cells": [
  {
   "cell_type": "code",
   "execution_count": 2,
   "metadata": {},
   "outputs": [],
   "source": [
    "import numpy as np\n",
    "\n",
    "paths = [\n",
    "    \"./netflix-prize-data/combined_data_1.txt\",\n",
    "    \"./netflix-prize-data/combined_data_2.txt\",\n",
    "    \"./netflix-prize-data/combined_data_3.txt\",\n",
    "    \"./netflix-prize-data/combined_data_4.txt\"\n",
    "]\n",
    "\n",
    "user_ids = {}\n",
    "\n",
    "for path in paths:\n",
    "    with open(path) as f:\n",
    "        for line in f:\n",
    "            line = line.strip().split(\",\")\n",
    "            if len(line) > 1:\n",
    "                user_id = line[0]\n",
    "                if user_id not in user_ids:\n",
    "                    user_ids[user_id] = len(user_ids)"
   ]
  },
  {
   "cell_type": "code",
   "execution_count": 3,
   "metadata": {
    "scrolled": true
   },
   "outputs": [
    {
     "name": "stdout",
     "output_type": "stream",
     "text": [
      "10000000\n",
      "20000000\n",
      "30000000\n",
      "40000000\n",
      "50000000\n",
      "60000000\n",
      "70000000\n",
      "80000000\n",
      "90000000\n",
      "100000000\n"
     ]
    }
   ],
   "source": [
    "from scipy.sparse import dok_matrix, csr_matrix\n",
    "import scipy.sparse\n",
    "from collections import defaultdict\n",
    "\n",
    "n = len(user_ids)\n",
    "m = 17770\n",
    "user2movies = defaultdict(list)\n",
    "i = 0\n",
    "\n",
    "for path in paths:\n",
    "    with open(path) as f:\n",
    "        for line in f:\n",
    "            line = line.strip().strip(\":\").split(\",\")\n",
    "            if len(line) == 1:\n",
    "                movie_id = int(line[0]) - 1\n",
    "            else:\n",
    "                user_id = user_ids[line[0]]\n",
    "                user2movies[user_id].append(movie_id)\n",
    "                i += 1\n",
    "                \n",
    "            if i % 10000000 == 0 and i > 0: \n",
    "                print(i)"
   ]
  },
  {
   "cell_type": "code",
   "execution_count": null,
   "metadata": {},
   "outputs": [],
   "source": [
    "i = 0\n",
    "train_row = []\n",
    "train_col = []\n",
    "test_row = []\n",
    "test_col = []\n",
    "for movies in user2movies.values():\n",
    "    if len(movies) > 1:\n",
    "        rng = np.random.RandomState(i)\n",
    "        test_id = rng.randint(0, len(movies))\n",
    "        test_row.append(i)\n",
    "        test_col.append(movies[test_id])\n",
    "        \n",
    "        del movies[test_id]\n",
    "        train_row = train_row + [i]*len(movies)\n",
    "        train_col = train_col + movies\n",
    "        \n",
    "        i += 1\n",
    "        \n",
    "    if i % 10000000 == 0:\n",
    "        print(i)"
   ]
  },
  {
   "cell_type": "code",
   "execution_count": 15,
   "metadata": {},
   "outputs": [
    {
     "data": {
      "text/plain": [
       "[0]"
      ]
     },
     "execution_count": 15,
     "metadata": {},
     "output_type": "execute_result"
    }
   ],
   "source": [
    "from scipy.sparse import coo_matrix\n",
    "\n",
    "adjacency_train = coo_matrix((np.ones(len(train_row)), (train_row, train_col)), shape=(i, m)).tocsr()\n",
    "adjacency_test = coo_matrix((np.ones(len(test_row)), (test_row, test_col)), shape=(i, m)).tocsr()"
   ]
  },
  {
   "cell_type": "code",
   "execution_count": 6,
   "metadata": {},
   "outputs": [
    {
     "data": {
      "text/plain": [
       "[1, 1, 1, 2, 3]"
      ]
     },
     "execution_count": 6,
     "metadata": {},
     "output_type": "execute_result"
    }
   ],
   "source": [
    "[1,1,1] + [2,3]"
   ]
  },
  {
   "cell_type": "code",
   "execution_count": null,
   "metadata": {},
   "outputs": [],
   "source": []
  }
 ],
 "metadata": {
  "kernelspec": {
   "display_name": "Python (research)",
   "language": "python",
   "name": "research"
  },
  "language_info": {
   "codemirror_mode": {
    "name": "ipython",
    "version": 3
   },
   "file_extension": ".py",
   "mimetype": "text/x-python",
   "name": "python",
   "nbconvert_exporter": "python",
   "pygments_lexer": "ipython3",
   "version": "3.6.3"
  }
 },
 "nbformat": 4,
 "nbformat_minor": 2
}
