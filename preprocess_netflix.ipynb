{
 "cells": [
  {
   "cell_type": "code",
   "execution_count": 1,
   "metadata": {},
   "outputs": [],
   "source": [
    "import numpy as np\n",
    "\n",
    "paths = [\n",
    "    \"./netflix-prize-data/combined_data_1.txt\",\n",
    "    \"./netflix-prize-data/combined_data_2.txt\",\n",
    "    \"./netflix-prize-data/combined_data_3.txt\",\n",
    "    \"./netflix-prize-data/combined_data_4.txt\"\n",
    "]\n",
    "\n",
    "user_ids = {}\n",
    "\n",
    "for path in paths:\n",
    "    with open(path) as f:\n",
    "        for line in f:\n",
    "            line = line.strip().split(\",\")\n",
    "            if len(line) > 1:\n",
    "                user_id = line[0]\n",
    "                if user_id not in user_ids:\n",
    "                    user_ids[user_id] = len(user_ids)"
   ]
  },
  {
   "cell_type": "code",
   "execution_count": 3,
   "metadata": {
    "scrolled": true
   },
   "outputs": [
    {
     "name": "stdout",
     "output_type": "stream",
     "text": [
      "...\n",
      "...\n",
      "...\n",
      "...\n",
      "...\n",
      "...\n",
      "...\n",
      "...\n",
      "...\n",
      "...\n"
     ]
    }
   ],
   "source": [
    "from scipy.sparse import dok_matrix, csr_matrix\n",
    "import scipy.sparse\n",
    "\n",
    "n = len(user_ids)\n",
    "m = 17770\n",
    "counts = csr_matrix((n, m), dtype=int)\n",
    "tmp_counts = dok_matrix((n, m), dtype=int)\n",
    "update_threshold = 10000000\n",
    "i = 0\n",
    "\n",
    "for path in paths:\n",
    "    with open(path) as f:\n",
    "        for line in f:\n",
    "            line = line.strip().strip(\":\").split(\",\")\n",
    "            if len(line) == 1:\n",
    "                movie_id = int(line[0]) - 1\n",
    "            else:\n",
    "                user_id = user_ids[line[0]]\n",
    "                rating = int(line[1])\n",
    "                \n",
    "                if rating >= 4:\n",
    "                    tmp_counts[user_id, movie_id] = 1\n",
    "                i += 1\n",
    "                \n",
    "            if i == update_threshold:\n",
    "                print(\"...\")\n",
    "                counts = counts + tmp_counts.tocsr()\n",
    "                tmp_counts = dok_matrix((n, m), dtype=int)\n",
    "                i = 0\n",
    "                \n",
    "counts = counts + tmp_counts.tocsr()"
   ]
  },
  {
   "cell_type": "code",
   "execution_count": 4,
   "metadata": {},
   "outputs": [],
   "source": [
    "scipy.sparse.save_npz(\"./data/netflix.adjacency.npz\", counts.astype(np.float32))"
   ]
  },
  {
   "cell_type": "code",
   "execution_count": null,
   "metadata": {},
   "outputs": [],
   "source": []
  }
 ],
 "metadata": {
  "kernelspec": {
   "display_name": "Python (research)",
   "language": "python",
   "name": "research"
  },
  "language_info": {
   "codemirror_mode": {
    "name": "ipython",
    "version": 3
   },
   "file_extension": ".py",
   "mimetype": "text/x-python",
   "name": "python",
   "nbconvert_exporter": "python",
   "pygments_lexer": "ipython3",
   "version": "3.6.3"
  }
 },
 "nbformat": 4,
 "nbformat_minor": 2
}
