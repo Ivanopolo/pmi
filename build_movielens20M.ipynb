{
 "cells": [
  {
   "cell_type": "code",
   "execution_count": 5,
   "metadata": {},
   "outputs": [],
   "source": [
    "import numpy as np\n",
    "from scipy.sparse import dok_matrix, csr_matrix\n",
    "import scipy.sparse\n",
    "\n",
    "train_paths = [\n",
    "    \"/Users/i.lobov/pmi/data/ml-20m/pro_sg/train.csv\",\n",
    "    \"/Users/i.lobov/pmi/data/ml-20m/pro_sg/validation_tr.csv\",\n",
    "    \"/Users/i.lobov/pmi/data/ml-20m/pro_sg/validation_te.csv\",\n",
    "    \"/Users/i.lobov/pmi/data/ml-20m/pro_sg/test_tr.csv\"\n",
    "]\n",
    "\n",
    "user_ids = {}\n",
    "item_ids = {}\n",
    "\n",
    "for train_path in train_paths:\n",
    "    with open(train_path) as f:\n",
    "        next(f)\n",
    "        for line in f:\n",
    "            line = line.strip().split(\",\")\n",
    "            user_id = int(line[0])\n",
    "            if user_id not in user_ids:\n",
    "                user_ids[user_id] = len(user_ids)\n",
    "\n",
    "            item_id = int(line[1])\n",
    "            if item_id not in item_ids:\n",
    "                item_ids[item_id] = len(item_ids)"
   ]
  },
  {
   "cell_type": "code",
   "execution_count": 6,
   "metadata": {},
   "outputs": [],
   "source": [
    "n = len(user_ids)\n",
    "m = len(item_ids)\n",
    "counts = csr_matrix((n, m), dtype=int)\n",
    "tmp_counts = dok_matrix((n, m), dtype=int)\n",
    "\n",
    "with open(train_path) as f:\n",
    "    next(f)\n",
    "    for line in f:\n",
    "        line = line.strip().split(\",\")\n",
    "        user_id = user_ids[int(line[0])]\n",
    "        item_id = item_ids[int(line[1])]\n",
    "        tmp_counts[user_id, item_id] = 1\n",
    "        \n",
    "counts = counts + tmp_counts.tocsr()"
   ]
  },
  {
   "cell_type": "code",
   "execution_count": 7,
   "metadata": {},
   "outputs": [],
   "source": [
    "scipy.sparse.save_npz(\"./data/movielens20M.train.npz\", counts.astype(np.float32))"
   ]
  },
  {
   "cell_type": "code",
   "execution_count": null,
   "metadata": {},
   "outputs": [],
   "source": []
  }
 ],
 "metadata": {
  "kernelspec": {
   "display_name": "Python (research)",
   "language": "python",
   "name": "research"
  },
  "language_info": {
   "codemirror_mode": {
    "name": "ipython",
    "version": 3
   },
   "file_extension": ".py",
   "mimetype": "text/x-python",
   "name": "python",
   "nbconvert_exporter": "python",
   "pygments_lexer": "ipython3",
   "version": "3.6.5"
  }
 },
 "nbformat": 4,
 "nbformat_minor": 2
}
