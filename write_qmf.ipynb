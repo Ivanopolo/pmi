{
 "cells": [
  {
   "cell_type": "code",
   "execution_count": 6,
   "metadata": {},
   "outputs": [],
   "source": [
    "import scipy.sparse\n",
    "import numpy as np\n",
    "\n",
    "train = scipy.sparse.load_npz(\"./data/netflix.adjacency.train.npz\")\n",
    "test = scipy.sparse.load_npz(\"./data/netflix.adjacency.test.npz\")"
   ]
  },
  {
   "cell_type": "code",
   "execution_count": 5,
   "metadata": {},
   "outputs": [],
   "source": [
    "with open(\"./data/netflix.train.qmf\", \"w\") as f:\n",
    "    for user_id, item_id in list(zip(*train.nonzero())):\n",
    "        f.write(f\"{user_id} {item_id} 1\\n\")"
   ]
  },
  {
   "cell_type": "code",
   "execution_count": 7,
   "metadata": {},
   "outputs": [],
   "source": [
    "with open(\"./data/netflix.test.qmf\", \"w\") as f:\n",
    "    for user_id, item_id in list(zip(*test.nonzero())):\n",
    "        f.write(f\"{user_id} {item_id} 1\\n\")"
   ]
  },
  {
   "cell_type": "code",
   "execution_count": null,
   "metadata": {},
   "outputs": [],
   "source": []
  }
 ],
 "metadata": {
  "kernelspec": {
   "display_name": "Python (research)",
   "language": "python",
   "name": "research"
  },
  "language_info": {
   "codemirror_mode": {
    "name": "ipython",
    "version": 3
   },
   "file_extension": ".py",
   "mimetype": "text/x-python",
   "name": "python",
   "nbconvert_exporter": "python",
   "pygments_lexer": "ipython3",
   "version": "3.6.3"
  }
 },
 "nbformat": 4,
 "nbformat_minor": 2
}
