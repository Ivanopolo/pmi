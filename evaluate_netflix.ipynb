{
 "cells": [
  {
   "cell_type": "code",
   "execution_count": 5,
   "metadata": {},
   "outputs": [],
   "source": [
    "import numpy as np\n",
    "from scipy.stats import percentileofscore\n",
    "import scipy.sparse\n",
    "\n",
    "#users = np.load(\"./data/netflix_users2_pos=100.npy\")\n",
    "#movies = np.load(\"./data/netflix_movies2_pos=100.npy\")\n",
    "#vals = np.load(\"./data/netflix_singular_vals2_pos=100.npy\")\n",
    "#test = scipy.sparse.load_npz(\"./data/netflix.adjacency.test2.npz\")\n",
    "\n",
    "users = np.load(\"./data/netflix_users_pmi.npy\")\n",
    "movies = np.load(\"./data/netflix_movies_pmi.npy\")\n",
    "vals = np.load(\"./data/netflix_singular_vals_pmi.npy\")\n",
    "train = scipy.sparse.load_npz(\"./data/netflix.adjacency.train.npz\")\n",
    "test = scipy.sparse.load_npz(\"./data/netflix.adjacency.test.npz\")\n",
    "\n",
    "# users = np.load(\"./data/movielens_users_svd.npy\")\n",
    "# movies = np.load(\"./data/movielens_movies_svd.npy\")\n",
    "# vals = np.load(\"./data/movielens_singular_vals_svd.npy\")\n",
    "\n",
    "# users = np.load(\"./data/movielens_users_pos=100.npy\")\n",
    "# movies = np.load(\"./data/movielens_movies_pos=100.npy\")\n",
    "# vals = np.load(\"./data/movielens_singular_vals_pos=100.npy\")\n",
    "\n",
    "# train = scipy.sparse.load_npz(\"./data/movielens.adjacency.train.npz\")\n",
    "# test = scipy.sparse.load_npz(\"./data/movielens.adjacency.test.npz\")"
   ]
  },
  {
   "cell_type": "code",
   "execution_count": 28,
   "metadata": {},
   "outputs": [],
   "source": [
    "users_path = \"./data/netflix.users_w=2.qmf\"\n",
    "items_path = \"./data/netflix.items_w=2.qmf\"\n",
    "\n",
    "users_dt = {}\n",
    "\n",
    "with open(users_path) as f:\n",
    "    for line in f:\n",
    "        line = line.strip().split()\n",
    "        users_dt[int(line[0])] = list(map(float, line[1:]))\n",
    "        \n",
    "users = np.zeros([len(users_dt), 100])\n",
    "\n",
    "for user_id, emb in users_dt.items():\n",
    "    users[user_id, :] = np.array(emb)"
   ]
  },
  {
   "cell_type": "code",
   "execution_count": 29,
   "metadata": {},
   "outputs": [],
   "source": [
    "items_dt = {}\n",
    "\n",
    "with open(items_path) as f:\n",
    "    for line in f:\n",
    "        line = line.strip().split()\n",
    "        items_dt[int(line[0])] = list(map(float, line[1:]))\n",
    "        \n",
    "items = np.zeros([max(items_dt.keys()) + 1, 100])\n",
    "\n",
    "for item_id, emb in items_dt.items():\n",
    "    items[item_id, :] = np.array(emb)"
   ]
  },
  {
   "cell_type": "code",
   "execution_count": 30,
   "metadata": {},
   "outputs": [],
   "source": [
    "vals = np.ones(100)\n",
    "movies = items"
   ]
  },
  {
   "cell_type": "code",
   "execution_count": 31,
   "metadata": {},
   "outputs": [
    {
     "name": "stdout",
     "output_type": "stream",
     "text": [
      "10000 93.43588182329769\n"
     ]
    },
    {
     "data": {
      "text/plain": [
       "93.43588182329769"
      ]
     },
     "execution_count": 31,
     "metadata": {},
     "output_type": "execute_result"
    }
   ],
   "source": [
    "#users = users / np.linalg.norm(users, axis=1, keepdims=True)\n",
    "#movies = movies / np.linalg.norm(movies, axis=1, keepdims=True)\n",
    "\n",
    "k = 100\n",
    "user_ids, movie_ids = test.nonzero()\n",
    "ranks = []\n",
    "for idx in range(test.shape[0]):\n",
    "    if idx % 10000 == 0 and idx > 0:\n",
    "        print(idx, np.mean(ranks))\n",
    "        break\n",
    "        \n",
    "    user_id = user_ids[idx]\n",
    "    movie_id = movie_ids[idx]\n",
    "    #sims = movies.dot(users[user_id,:])\n",
    "    #sims = -np.sum(np.square(movies - users[user_id,:]*vals), axis=1)\n",
    "    sims = movies[:, -k:].dot(users[user_id,-k:]*vals[-k:])\n",
    "    rank = percentileofscore(sims, sims[movie_id])\n",
    "    ranks.append(rank)\n",
    "    \n",
    "np.mean(ranks)"
   ]
  },
  {
   "cell_type": "code",
   "execution_count": 32,
   "metadata": {},
   "outputs": [
    {
     "name": "stderr",
     "output_type": "stream",
     "text": [
      "100%|██████████| 463435/463435 [08:04<00:00, 957.22it/s] "
     ]
    },
    {
     "name": "stdout",
     "output_type": "stream",
     "text": [
      "0.26788654288087865\n"
     ]
    },
    {
     "name": "stderr",
     "output_type": "stream",
     "text": [
      "\n"
     ]
    }
   ],
   "source": [
    "from implicit.evaluation import precision_at_k, mean_average_precision_at_k\n",
    "import itertools\n",
    "\n",
    "class SVDModel:\n",
    "    def __init__(self, users, items, vals):\n",
    "        self.users = users\n",
    "        self.item_factors = items\n",
    "        self.vals = vals\n",
    "        \n",
    "    def recommend(self, userid, user_items,\n",
    "                  N=10, filter_already_liked_items=True, filter_items=None, recalculate_user=False):\n",
    "        user = self.users[userid] * vals\n",
    "\n",
    "        # calculate the top N items, removing the users own liked items from the results\n",
    "        if filter_already_liked_items is True:\n",
    "            liked = set(user_items[userid].indices)\n",
    "        else:\n",
    "            liked = set()\n",
    "        scores = self.item_factors.dot(user)\n",
    "        if filter_items:\n",
    "            liked.update(filter_items)\n",
    "\n",
    "        count = N + len(liked)\n",
    "        if count < len(scores):\n",
    "            ids = np.argpartition(scores, -count)[-count:]\n",
    "            best = sorted(zip(ids, scores[ids]), key=lambda x: -x[1])\n",
    "        else:\n",
    "            best = sorted(enumerate(scores), key=lambda x: -x[1])\n",
    "        return list(itertools.islice((rec for rec in best if rec[0] not in liked), N))\n",
    "    \n",
    "model = SVDModel(users, movies, vals)\n",
    "pr = precision_at_k(model, train, test, K=20, show_progress=True, num_threads=4)\n",
    "print(pr)\n",
    "#mean_pr = mean_average_precision_at_k(model, train, test, K=20, show_progress=True, num_threads=1)\n",
    "#print(pr, mean_pr)"
   ]
  },
  {
   "cell_type": "code",
   "execution_count": null,
   "metadata": {},
   "outputs": [],
   "source": [
    "### PMI, inner product, neg=1, pos=1\n",
    "# 10000 88.97819977490151\n",
    "# 20000 89.64527743387733\n",
    "# 30000 89.37634758957043\n",
    "# 40000 88.71577335396735\n",
    "# 50000 89.0205148002251\n",
    "# 60000 89.27747008066028\n",
    "# 70000 89.47819318273173\n",
    "# 80000 89.78221454698931\n",
    "# 90000 90.23911392484212\n",
    "# 100000 90.58637293190772\n",
    "# 110000 90.84382805545607\n",
    "# 120000 91.09001716375916\n",
    "# 130000 91.30192567421325\n",
    "# 140000 91.50021159257177\n",
    "# 150000 91.65341410617147\n",
    "# 160000 91.77862362830615\n",
    "\n",
    "### PMI, inner product, neg=1, pos=100\n",
    "# 10000 92.42193528418683\n",
    "# 20000 92.89404811480021\n",
    "# 30000 93.04647927218157\n",
    "# 40000 92.94268036015757\n",
    "# 50000 93.15109893078221\n",
    "# 60000 93.36103620333895\n",
    "# 70000 93.54532293592732\n",
    "# 80000 93.68624563871693\n",
    "# 90000 93.85517832801851\n",
    "# 100000 93.97802476083287\n",
    "# 110000 94.06193282856704\n",
    "# 120000 94.147773776027\n",
    "# 130000 94.2178700922038\n",
    "# 140000 94.28050852158533\n",
    "# 150000 94.34195171637592\n",
    "# 160000 94.37262468345524\n",
    "# 170000 94.27095094177231\n",
    "# 180000 94.19613524667041\n",
    "# 190000 94.14627977371678\n",
    "# 200000 94.1105785312324\n",
    "# 210000 94.08751898598491\n",
    "# 220000 94.09791584386348\n",
    "# 230000 94.11875207359739\n",
    "# 240000 94.1738907099981\n",
    "# 250000 94.19415646595382\n",
    "# 260000 94.23603292065276\n",
    "# 270000 94.26528195668936\n",
    "# 280000 94.26641719591605\n",
    "# 290000 94.23844705334443\n",
    "# 300000 94.23204173700992\n",
    "# 310000 94.2222524552072\n",
    "# 320000 94.23006037211591\n",
    "# 330000 94.26428693235107\n",
    "# 340000 94.25469219437915\n",
    "# 350000 94.24127701583727\n",
    "# 360000 94.22227974738946\n",
    "# 370000 94.21815104412234\n",
    "# 380000 94.21094077836683\n",
    "# 390000 94.19272009869701\n",
    "# 400000 94.18752982554867\n",
    "# 410000 94.15964744636753\n",
    "# 420000 94.18837507034326\n",
    "# 430000 94.20744459567337\n",
    "# 440000 94.20267831380772\n",
    "# 450000 94.18832853123239\n",
    "# 460000 94.17995751266177\n",
    "# 470000 94.14297981297668\n",
    "\n",
    "### SVD, inner product\n",
    "# 10000 92.1537307259426\n",
    "# 20000 92.64015883511536\n",
    "# 30000 92.86327565184769\n",
    "# 40000 92.76784904333145\n",
    "# 50000 92.97304546989308\n",
    "# 60000 93.1747843744138\n",
    "# 70000 93.35709237076937\n",
    "# 80000 93.50585780106923\n",
    "# 90000 93.67374748327394\n",
    "# 100000 93.79049442881261\n",
    "# 110000 93.87704760321277\n",
    "# 120000 93.96180662633653\n",
    "# 130000 94.02646487165057\n",
    "# 140000 94.08317416994934\n",
    "# 150000 94.13687936597262\n",
    "# 160000 94.16676820132245\n",
    "# 170000 94.04405854215631\n",
    "# 180000 93.96346728256111"
   ]
  },
  {
   "cell_type": "code",
   "execution_count": null,
   "metadata": {},
   "outputs": [],
   "source": [
    "### Movielens\n",
    "### PMI, pos=100\n",
    "# 90.27900618682467\n",
    "\n",
    "### SVD\n",
    "# 90.05168813845619"
   ]
  }
 ],
 "metadata": {
  "kernelspec": {
   "display_name": "Python (research)",
   "language": "python",
   "name": "research"
  },
  "language_info": {
   "codemirror_mode": {
    "name": "ipython",
    "version": 3
   },
   "file_extension": ".py",
   "mimetype": "text/x-python",
   "name": "python",
   "nbconvert_exporter": "python",
   "pygments_lexer": "ipython3",
   "version": "3.6.5"
  }
 },
 "nbformat": 4,
 "nbformat_minor": 2
}
